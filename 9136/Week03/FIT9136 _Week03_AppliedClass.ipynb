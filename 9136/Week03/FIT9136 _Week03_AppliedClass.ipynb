{
 "cells": [
  {
   "cell_type": "markdown",
   "id": "dc86ad88",
   "metadata": {
    "heading_collapsed": true,
    "id": "dc86ad88"
   },
   "source": [
    "# FIT9136 Week03 Applied Class"
   ]
  },
  {
   "cell_type": "markdown",
   "id": "6b63ea04",
   "metadata": {},
   "source": [
    "## Table of Contents:\n",
    "* [*Exercise 1: Input/output functions](#first-bullet)\n",
    "* [*Exercise 2: Converting Temperature](#second-bullet)\n",
    "* [*Exercise 3: Shapes](#third-bullet)\n",
    "* [  Exercise 4: ASCII ART](#fourth-bullet)\n",
    "* [*Exercise 5: Monthly EMI Calculator](#fifth-bullet)"
   ]
  },
  {
   "cell_type": "markdown",
   "id": "b105848f",
   "metadata": {
    "heading_collapsed": true,
    "hidden": true,
    "id": "b105848f"
   },
   "source": [
    "## *Exercise 1: Input/output functions<a class=\"anchor\" id=\"first-bullet\"></a>\n",
    "This task contains three questions that will help to apply your knowledge of print function, type conversion, and input function"
   ]
  },
  {
   "cell_type": "markdown",
   "id": "3145d635",
   "metadata": {
    "hidden": true,
    "id": "3145d635"
   },
   "source": [
    "<div class=\"alert alert-block alert-success\">\n",
    "<b> Q1. Using the print function, print out the values as it is on the output window. And the values are: </b>\n",
    "\n",
    "    100   \n",
    "    jack  \n",
    "    \"jack\"  \n",
    "    -1  \n",
    "    True \n",
    "<b>Can you assign each of the above object to the variables using appropriate naming convention? </b>   \n",
    "</div>     "
   ]
  },
  {
   "cell_type": "code",
   "execution_count": 1,
   "id": "f53a731c",
   "metadata": {
    "ExecuteTime": {
     "end_time": "2022-02-22T03:04:18.574477Z",
     "start_time": "2022-02-22T03:04:18.563489Z"
    },
    "hidden": true,
    "id": "f53a731c",
    "outputId": "9a8c58d3-a25b-45cf-d22c-0bd22556f043"
   },
   "outputs": [
    {
     "name": "stdout",
     "output_type": "stream",
     "text": [
      "100\n",
      "jack\n",
      "\"jack\"\n",
      "-1\n",
      "True\n"
     ]
    }
   ],
   "source": [
    "print(100)\n",
    "print(\"jack\")\n",
    "print('\"jack\"')\n",
    "print(-1)\n",
    "print(True)\n"
   ]
  },
  {
   "cell_type": "markdown",
   "id": "dab471ee",
   "metadata": {
    "hidden": true,
    "id": "dab471ee"
   },
   "source": [
    "<div class=\"alert alert-block alert-success\">\n",
    "    <b> Q2. Now, print out the types of these values as well.</b>\n",
    "</div> "
   ]
  },
  {
   "cell_type": "code",
   "execution_count": 3,
   "id": "c617c5e1",
   "metadata": {
    "ExecuteTime": {
     "end_time": "2022-02-22T03:06:24.834626Z",
     "start_time": "2022-02-22T03:06:24.822629Z"
    },
    "hidden": true,
    "id": "c617c5e1",
    "outputId": "7eb31712-cbab-42c6-84cb-3e1867611674"
   },
   "outputs": [
    {
     "name": "stdout",
     "output_type": "stream",
     "text": [
      "<class 'int'>\n",
      "<class 'str'>\n",
      "<class 'str'>\n",
      "<class 'int'>\n",
      "<class 'bool'>\n"
     ]
    }
   ],
   "source": [
    "print(type(100))\n",
    "print(type(\"jack\"))\n",
    "print(type('\"jack\"'))\n",
    "print(type(-1))\n",
    "print(type(True))\n"
   ]
  },
  {
   "cell_type": "markdown",
   "id": "36d1798c",
   "metadata": {
    "hidden": true,
    "id": "36d1798c"
   },
   "source": [
    "<div class=\"alert alert-block alert-success\">\n",
    "<b> Q3. Ask a user to input a value and then print out the value and type of user value. </b>\n",
    "</div> "
   ]
  },
  {
   "cell_type": "code",
   "execution_count": 4,
   "id": "bd5e2852",
   "metadata": {
    "ExecuteTime": {
     "end_time": "2022-02-22T03:07:32.402809Z",
     "start_time": "2022-02-22T03:07:31.166648Z"
    },
    "hidden": true,
    "id": "bd5e2852",
    "outputId": "15cc644e-5c98-4b4d-e8d9-394190bead2f"
   },
   "outputs": [
    {
     "name": "stdout",
     "output_type": "stream",
     "text": [
      "input:aaa\n",
      "aaa\n",
      "<class 'str'>\n"
     ]
    }
   ],
   "source": [
    "a = input(\"input:\")\n",
    "print(a)\n",
    "print(type(a))"
   ]
  },
  {
   "cell_type": "markdown",
   "id": "4ef6583c",
   "metadata": {},
   "source": [
    "## *Exercise 2: Converting Temperature<a class=\"anchor\" id=\"second-bullet\"></a>"
   ]
  },
  {
   "cell_type": "markdown",
   "id": "1df58618",
   "metadata": {
    "heading_collapsed": true,
    "hidden": true,
    "id": "1df58618"
   },
   "source": [
    "<div class=\"alert alert-block alert-success\">\n",
    "In the human world, we can measure everything on a numerical scale. For example, distance can be measured in meters, kilometres, and so on. Similarly, weather for any system (open or closed) can be measured using the temperature. we  can measure the temperature using three different scales:\n",
    "* Kelvin\n",
    "* Celsius\n",
    "* Fahrenheit\n",
    "\n",
    "**Write a Python script that converts temperature from Fahrenheit to Celsius and prints it. The formula for this is:**\n",
    "\n",
    "* `C = (F − 32) × 5 / 9`\n",
    "* Here, 'C' means Temperature in Celsius and 'F' means Temperature in Fahrenheit.\n",
    "\n",
    "**Example program run (bold indicate what the user enters):**\n",
    "\n",
    "Temperature in Fahrenheit: **-40**<br>\n",
    "\n",
    "-40.0 Fahrenheit is equal to  -40.0 Celsius\n",
    "    \n",
    "</div> "
   ]
  },
  {
   "cell_type": "code",
   "execution_count": 13,
   "id": "f63442c0",
   "metadata": {
    "ExecuteTime": {
     "end_time": "2022-02-22T05:11:57.613562Z",
     "start_time": "2022-02-22T05:11:55.529952Z"
    },
    "hidden": true,
    "id": "f63442c0",
    "outputId": "1a979553-6b49-4cfa-8a6c-040b99ea0998"
   },
   "outputs": [
    {
     "name": "stdout",
     "output_type": "stream",
     "text": [
      "Temperature in Fahrenheit:-40\n",
      "-40.0 Fahrenheit is equal to -40.0 Celsius\n"
     ]
    }
   ],
   "source": [
    "# Your solution goes here\n",
    "\"\"\"\n",
    "Name: \n",
    "Date: \n",
    "Description: This python Scripts asks a user to enter the temperature in Fahrenheit and \n",
    "converts into Celsius\n",
    "\"\"\"\n",
    "\n",
    "# Asking user input and converting the value into float\n",
    "\n",
    "f = float(input(\"Temperature in Fahrenheit:\"))\n",
    "\n",
    "# using the equation to convert the Fahrenheit to celsius\n",
    "c = (f - 32)*5/9\n",
    "\n",
    "# printing out the values in readable format\n",
    "print('%0.1f Fahrenheit is equal to %0.1f Celsius' %(f,c))"
   ]
  },
  {
   "cell_type": "markdown",
   "id": "32ed9f13",
   "metadata": {},
   "source": [
    "## *Exercise 3: Shapes<a class=\"anchor\" id=\"third-bullet\"></a>"
   ]
  },
  {
   "cell_type": "markdown",
   "id": "de45315b",
   "metadata": {
    "heading_collapsed": true,
    "hidden": true,
    "id": "de45315b"
   },
   "source": [
    "<div class=\"alert alert-block alert-success\">\n",
    "In geometry, there are many shapes with multiple dimensions. There are shapes like point (can be 1-D, 2-D or mulit-D), line (2-D), square/rectangle (2-D), cube(3-D of a square), triangle(2-D), Triangular Prism (3-D of triangle), polygon (a flat 2-D shape with straight sides that are fully closed), and so on. We can find area, volume, and perimeter for different purposes in the life.\n",
    "\n",
    "For example, if you are planning to buy new couch for living area in your house, then you would look at what is it's height, weight, length. And based on those measures you can make a discussion to buy it or not.\n",
    "\n",
    "**Write a Python code that takes user input for a height, width, length of a Entertainment Unit (EU) (in cms), and dimension of the living room (height, width, and length in meters) and then print the volume it will consume in your living area, and the empty space in your living room.**\n",
    "\n",
    "* (You can assume the living room is empty and first item you bought is EU)\n",
    "\n",
    "* `1,000,000 cubic centimeters = 1 cubic meters`\n",
    "\n",
    "<font color=\"red\">Note: `'D'` refers to the dimension.</font>\n",
    "\n",
    "\n",
    "**Example program run (bold indicate what the user enters):**\n",
    "\n",
    "Please enter the following information for Entertainment Unit:<br>\n",
    "Height (in cms): **52.5**<br>\n",
    "Width (in cms): **42.8**<br>\n",
    "Length (in cms): **175.65**<br>\n",
    "\n",
    "Please enter the following information for Living Room:<br>\n",
    "Height (in meters): **8.2**<br>\n",
    "Width (in meters): **4.2**<br>\n",
    "Length (in meters): **12.5**<br>\n",
    "\n",
    "After placing the Entertainment unit 430.10531445 cubric meters spaces remains in Living Room\n",
    "</div>"
   ]
  },
  {
   "cell_type": "code",
   "execution_count": 17,
   "id": "f39b0121",
   "metadata": {
    "ExecuteTime": {
     "end_time": "2022-02-22T05:42:02.421988Z",
     "start_time": "2022-02-22T05:41:49.955542Z"
    },
    "hidden": true,
    "id": "f39b0121",
    "outputId": "52d34d0d-a7de-4d37-c1f3-9e135f928498"
   },
   "outputs": [
    {
     "name": "stdout",
     "output_type": "stream",
     "text": [
      "Please enter the following information for Entertainment Unit:\n",
      "Height (in cms): 55.6\n",
      "width (in cms): 45.8\n",
      "length (in cms): 64.4\n",
      "Please enter the following information for Living Room:\n",
      "Height (in meters): 3.2\n",
      "width (in meters): 4.5\n",
      "length (in meters): 15.6\n",
      "After placing the Entertainment unit 224.47600668799998 cubric meters spaces remains in Living Room\n"
     ]
    }
   ],
   "source": [
    "# Your solution goes here\n",
    "\"\"\"\n",
    "Name: \n",
    "Date: \n",
    "Description: This python Scripts asks a user to enter the dimensions of Entertainment Unit \n",
    "and Living room, then calculates the volume of each and prints outs the \n",
    "empty space (remaining volume) in the Living Room\n",
    "\"\"\"\n",
    "\n",
    "# Asking user to enter the dimensions (Height, width, and length) of the Entertainment Unit\n",
    "print(\"Please enter the following information for Entertainment Unit:\")\n",
    "ent_height = float(input(\"Height (in cms): \"))\n",
    "ent_width = float(input(\"width (in cms): \"))\n",
    "ent_length = float(input(\"length (in cms): \"))\n",
    "\n",
    "\n",
    "# Calculating volume of Entertainment unit and converting into cubic meters\n",
    "ent_volume = ent_height * ent_width * ent_length /1000000\n",
    "\n",
    "# Asking user to enter the dimensions (Height, width, and length) of the Living Room\n",
    "print(\"Please enter the following information for Living Room:\")\n",
    "liv_height = float(input(\"Height (in meters): \"))\n",
    "liv_width = float(input(\"width (in meters): \"))\n",
    "liv_length = float(input(\"length (in meters): \"))\n",
    "\n",
    "# Calculating the volume of Living room\n",
    "liv_volume = liv_height * liv_width * liv_length\n",
    "liv_remains = liv_volume - ent_volume\n",
    "# Printing the result in a readable format and subtracting the volume as well\n",
    "print(f\"After placing the Entertainment unit {liv_remains} cubric meters spaces remains in Living Room\")"
   ]
  },
  {
   "cell_type": "markdown",
   "id": "3d5c2aca",
   "metadata": {},
   "source": [
    "## Exercise 4: ASCII ART<a class=\"anchor\" id=\"fourth-bullet\"></a>"
   ]
  },
  {
   "cell_type": "markdown",
   "id": "0b78c789",
   "metadata": {
    "heading_collapsed": true,
    "hidden": true,
    "id": "0b78c789"
   },
   "source": [
    "<div class=\"alert alert-block alert-success\">\n",
    "The ASCII stands for the \"American Standard Code for Information Interchange\" was created in 1963 by the \"American Standards Association\" Committee or \"ASA\", the agency changed its name in 1969 by \"American National Standards Institute\" or \"ANSI\" as it is known since.. This code arises from reorder and expand the set of symbols and characters already used in telegraphy at that time by the Bell company.\n",
    "\n",
    "\n",
    "A ASCII art is drawing a image or painting using the ascii characters. You can find the list of ASCII character by [clicking here](https://theasciicode.com.ar/).\n",
    "\n",
    "<b> Write a Python script that prints out the following ASCII art on the output window.</b>\n",
    "\n",
    "         ,-'``_.-'` \\   / `'-._``'-.\n",
    "       ,`   .'      |`-'|      `.   `.\n",
    "     ,`    (    /\\  |   |  /\\    )    `.\n",
    "    /       `--'  `-'   `-'  `--'       \\\n",
    "    |                                   |\n",
    "    \\      .--.  ,--.   ,--.  ,--.      /\n",
    "     `.   (    \\/    \\ /    \\/    )   ,'\n",
    "       `._ `--.___    V    ___.--' _,'\n",
    "          `'----'`         `'----'`\n",
    "          \n",
    "* **Hint:** you have use print statements and escape the characters.\n",
    "\n",
    "* If you want to draw more arts like this you can visit the following [link](https://www.asciiart.eu/).\n",
    "</div>"
   ]
  },
  {
   "cell_type": "code",
   "execution_count": null,
   "id": "a93fe547",
   "metadata": {
    "ExecuteTime": {
     "end_time": "2022-02-22T05:48:19.800423Z",
     "start_time": "2022-02-22T05:48:19.791361Z"
    },
    "code_folding": [],
    "hidden": true,
    "id": "a93fe547",
    "outputId": "bc628cbe-cceb-46ac-b415-42fc23ef7471"
   },
   "outputs": [],
   "source": [
    "# Your solution goes here\n",
    "\"\"\"\n",
    "Name: \n",
    "Date: \n",
    "Description: This python Scripts stores the ASCII art in a long string and prints out the variable\n",
    "\"\"\""
   ]
  },
  {
   "cell_type": "markdown",
   "id": "d05024a0",
   "metadata": {
    "heading_collapsed": true,
    "hidden": true,
    "id": "d05024a0"
   },
   "source": [
    "## *Exercise 5: Monthly EMI Calculator<a class=\"anchor\" id=\"fifth-bullet\"></a>"
   ]
  },
  {
   "cell_type": "markdown",
   "id": "f74b4412",
   "metadata": {
    "hidden": true,
    "id": "f74b4412"
   },
   "source": [
    "<div class=\"alert alert-block alert-success\">\n",
    "When making major purchases such as houses or vehicles, most people do not pay the entire amount up front. Instead, they `finance` the purchase by taking out a loan at a certain interest rate, and they agree to pay back the loan in monthly installments over a period of time.\n",
    "\n",
    "To compute the amount of a monthly payment, you need the following information:\n",
    "* P, initial amount of loan (in dollars)\n",
    "* r, monthly interest rate (as a decimal), which is the annual interest rate divided by 12\n",
    "* n, number of months to make payments. Given those values, the monthly payment M can be computed using the formula\n",
    "\n",
    "$$ M = P \\dfrac{r(1 + r)^n}{(1 + r)^n − 1} $$\n",
    "\n",
    "For example, suppose you’re financing a `$30,000` car over `5` years, at an annual interest rate of `3.6%`. \n",
    "Then, `P = 30000`, `r = 0.036 / 12 = 0.003`, and `n = 5 × 12 = 60`. Substituting those values into the formula yields a monthly payment of `M = 547.1`.\n",
    "\n",
    "\n",
    "Note that the total amount you pay is `$547.1` per month over 60 months, which comes out to `$32,825.81`. Your loan ultimately costs an extra `$2,825.81` in interest! Higher interest rates and/or longer loan terms will result in paying more over time.\n",
    "\n",
    "**Write a program that allows the user to enter the following inputs:**\n",
    "* Initial amount of loan, in dollars\n",
    "* Annual interest rate, as a percentage (e.g., 4.8 for 4.8%)\n",
    "* Number of years to pay back the loan\n",
    "\n",
    "Your program should then calculate and show the monthly payment, the total amount paid over the entire loan term, and the total interest paid, all rounded to the nearest cent. Note that the user inputs the annual interest rate and the number of years to pay back the loan. However, the monthly payment formula requires values in terms of months. Be sure to convert\n",
    "accordingly.\n",
    "\n",
    "**Example program run (bold indicate what the user enters)**\n",
    "\n",
    "Please enter the following information:<br>\n",
    "* Initial amount of loan: **250000**<br>\n",
    "* Annual interest rate (in %): **4.5**<br>\n",
    "* Number of years: **15**<br>\n",
    "    \n",
    "        \n",
    "* Monthly payment: `$1912.48`<br>\n",
    "* Total paid: `$344246.98`<br>\n",
    "* Interest paid: `$94246.98`<br>\n",
    "</div>"
   ]
  },
  {
   "cell_type": "code",
   "execution_count": 26,
   "id": "4884e3aa",
   "metadata": {
    "ExecuteTime": {
     "end_time": "2022-02-22T05:53:43.992414Z",
     "start_time": "2022-02-22T05:53:36.161297Z"
    },
    "hidden": true,
    "id": "4884e3aa",
    "outputId": "23acc928-394b-4c31-d790-309dcccbc356"
   },
   "outputs": [
    {
     "name": "stdout",
     "output_type": "stream",
     "text": [
      "Initial amount of loan: 250000\n",
      "Annual interest rate (in %): 4.5\n",
      "Number of years: 15\n",
      "Monthly payment:$1912.48\n",
      "Total paid: $594246.98\n",
      "Interest paid: $344246.98\n",
      "\n",
      "\n"
     ]
    }
   ],
   "source": [
    "# Your solution goes here\n",
    "\"\"\"\n",
    "Name: \n",
    "Date: \n",
    "Description: This python Scripts calculates the Monthly EMI and interested paid for a financing,\n",
    "by asking a user to enter the principal amount, rate (annually), \n",
    "and number of years for financing a item.\n",
    "\"\"\"\n",
    "\n",
    "# Asking user to enter the Initial amount, rate, and years.\n",
    "initial_loan = float(input(\"Initial amount of loan: \"))\n",
    "annual_rate = float(input(\"Annual interest rate (in %): \"))\n",
    "years = int(input(\"Number of years: \"))\n",
    "\n",
    "\n",
    "\n",
    "# converting the annual rate to monthly rate by dividing it by 1200\n",
    "r = annual_rate /1200\n",
    "n = years *12\n",
    "p = initial_loan\n",
    "\n",
    "\n",
    "\n",
    "# Using the expression to calculate the monthly EMI\n",
    "monthly_payment = p * r *(1+r)**n\n",
    "monthly_payment = monthly_payment/((1+r)**n-1)\n",
    "\n",
    "\n",
    "# Calculating the total amount paid with interest\n",
    "interest_paid = monthly_payment * 12 * years\n",
    "total_amount = interest_paid + initial_loan\n",
    "monthly_payment = round(monthly_payment, 2)\n",
    "interest_paid = round(interest_paid, 2)\n",
    "total_amount = round(total_amount, 2)\n",
    "\n",
    "\n",
    "# Printing in a readable format\n",
    "print(\n",
    "f\"\"\"Monthly payment:${monthly_payment}\n",
    "Total paid: ${total_amount}\n",
    "Interest paid: ${interest_paid}\n",
    "\n",
    "\"\"\"\n",
    ")"
   ]
  },
  {
   "cell_type": "code",
   "execution_count": null,
   "id": "022ab518",
   "metadata": {},
   "outputs": [],
   "source": []
  },
  {
   "cell_type": "code",
   "execution_count": null,
   "id": "9f701907",
   "metadata": {},
   "outputs": [],
   "source": []
  }
 ],
 "metadata": {
  "colab": {
   "collapsed_sections": [],
   "name": "Week_2_S1_22_Solution.ipynb",
   "provenance": [],
   "toc_visible": true
  },
  "kernelspec": {
   "display_name": "Python 3 (ipykernel)",
   "language": "python",
   "name": "python3"
  },
  "language_info": {
   "codemirror_mode": {
    "name": "ipython",
    "version": 3
   },
   "file_extension": ".py",
   "mimetype": "text/x-python",
   "name": "python",
   "nbconvert_exporter": "python",
   "pygments_lexer": "ipython3",
   "version": "3.10.2"
  },
  "latex_envs": {
   "LaTeX_envs_menu_present": true,
   "autoclose": false,
   "autocomplete": true,
   "bibliofile": "biblio.bib",
   "cite_by": "apalike",
   "current_citInitial": 1,
   "eqLabelWithNumbers": true,
   "eqNumInitial": 1,
   "hotkeys": {
    "equation": "Ctrl-E",
    "itemize": "Ctrl-I"
   },
   "labels_anchors": false,
   "latex_user_defs": false,
   "report_style_numbering": false,
   "user_envs_cfg": false
  }
 },
 "nbformat": 4,
 "nbformat_minor": 5
}
